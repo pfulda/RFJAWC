{
 "cells": [
  {
   "cell_type": "code",
   "execution_count": 1,
   "metadata": {},
   "outputs": [
    {
     "name": "stdout",
     "output_type": "stream",
     "text": [
      "                                              ..-\n",
      "    PyKat 1.1.297         _                  '(\n",
      "                          \\`.|\\.__...-\"\"\"\"-_.\" )\n",
      "       ..+-----.._        /  ' `            .-'\n",
      "   . '            `:      7/* _/._\\    \\   (\n",
      "  (        '::;;+;;:      `-\"' =\" /,`\"\" `) /\n",
      "  L.        \\`:::a:f            c_/     n_'\n",
      "  ..`--...___`.  .    ,\n",
      "   `^-....____:   +.      www.gwoptics.org/pykat\n",
      "\n"
     ]
    }
   ],
   "source": [
    "import pandas as pd\n",
    "import numpy as np\n",
    "import matplotlib.pyplot as plt\n",
    "from mpl_toolkits.mplot3d import Axes3D\n",
    "from pykat.commands import *\n",
    "import pykat as pk\n",
    "%matplotlib inline \n",
    "%config InlineBackend.figure_format = 'retina'\n",
    "from pylab import rcParams\n",
    "rcParams['figure.figsize'] = 10, 8\n",
    "rcParams.update({'font.size': 18})"
   ]
  },
  {
   "cell_type": "code",
   "execution_count": 2,
   "metadata": {},
   "outputs": [],
   "source": [
    "# Grab data from COMSOL file and put it into arrays for analysis\n",
    "\n",
    "data = pd.read_csv('EOBD_1_v.txt', delimiter='\\s+', skiprows=9, header=None)\n",
    "x = data[0]\n",
    "y = data[1]\n",
    "Ey = data[2]\n",
    "Ex = data[3]\n",
    "\n",
    "# the origin is defined at the bottom left corner of the EOBD, this is done to move the origion to the center of the ensemble\n",
    "x = np.subtract(x, 0.0025)\n",
    "y = np.subtract(y, 0.002)"
   ]
  },
  {
   "cell_type": "code",
   "execution_count": 3,
   "metadata": {},
   "outputs": [],
   "source": [
    "# Since I am no interested in the field that present in the electrodes, silicon and copper, I remove these data points.\n",
    "n_x = []\n",
    "for i in range(int(len(x))):\n",
    "    if (x[i] >= -.002 and x[i] <= 0.00201) == True:\n",
    "        n_x.append(i)\n",
    "        \n",
    "x_c = []\n",
    "y_c = []\n",
    "Ey_c = []\n",
    "Ex_c = []\n",
    "\n",
    "for j in n_x:\n",
    "    x_c.append(x[j])\n",
    "    y_c.append(y[j])\n",
    "    Ey_c.append(Ey[j])\n",
    "    Ex_c.append(Ex[j])\n",
    "\n",
    "x_c = np.array(x_c)\n",
    "y_c = np.array(y_c)\n",
    "Ey_c = np.array(Ey_c)\n",
    "Ex_c = np.array(Ex_c)"
   ]
  },
  {
   "cell_type": "code",
   "execution_count": 4,
   "metadata": {},
   "outputs": [],
   "source": [
    "# this is the same as above, but in the y-direction\n",
    "n_y = []\n",
    "for i in range(int(len(x_c))):\n",
    "    if (y_c[i] >= -.0020 and y_c[i] <= 0.0020) == True:\n",
    "        n_y.append(i)\n",
    "        \n",
    "x_cc = []\n",
    "y_cc = []\n",
    "Ey_cc = []\n",
    "Ex_cc = []\n",
    "\n",
    "for j in n_y:\n",
    "    x_cc.append(x_c[j])\n",
    "    y_cc.append(y_c[j])\n",
    "    Ey_cc.append(Ey_c[j])\n",
    "    Ex_cc.append(Ex_c[j])\n",
    "\n",
    "x_cc = np.array(x_cc)\n",
    "y_cc = np.array(y_cc)\n",
    "Ey_cc = np.array(Ey_cc)\n",
    "Ex_cc = np.array(Ex_cc)"
   ]
  },
  {
   "cell_type": "code",
   "execution_count": 50,
   "metadata": {},
   "outputs": [],
   "source": [
    "from scipy.interpolate import griddata\n",
    "\n",
    "n0 = [1.774 for i in x_cc] # index of refraction for RTP in the y direction (y-cut)\n",
    "r33 = 38.5e-12 # [pm/V] electro optic coefficient\n",
    "n_E = [j+0.5*(j**3)*r33*i for i,j in zip(Ey_cc, n0)] #use the above arrays to generate the electrical field dependant index of refraction\n",
    "\n",
    "# ------------------------------------------------------\n",
    "dOPL = [i*40e-3 - 1.774*40e-3 for i in n_E]   # 1\n",
    "#dOPL = [i*20e-3 - 1.774*20e-3 for i in n_E]  # 2\n",
    "\n",
    "phase = [k*2*np.pi/1064e-9 for k in dOPL]\n",
    "\n",
    "# A point of interest can be found here. During the initial simulation, we assumed that the beam interacts with the EOBD through the extent of the crystal.\n",
    "# However, we concluded, at least with regards to the phase, that only the second half of the crystal need be considered. Or, in other words, the length can\n",
    "# be reduced by a factor of 1/2. This becomes relevant when we increase the complexity.\n",
    "\n",
    "# As it is easier to work with a grid of the data we use the generated phase map array and interpolate it over a grid.\n",
    "X = np.linspace(-0.002, 0.002, 101)\n",
    "Y = X\n",
    "\n",
    "XX, YY = np.meshgrid(X, Y)\n",
    "phase_m = griddata((x_cc, y_cc), phase, (XX, YY), method='cubic', fill_value=0)"
   ]
  },
  {
   "cell_type": "code",
   "execution_count": 51,
   "metadata": {},
   "outputs": [],
   "source": [
    "def HG_mode_content(w0, z, beam_data, X, Y, n, m):\n",
    "    ''' Fuction that will calculate the complex coupling coefficients for a beam, in the HG basis, up to a user defined mode order'''\n",
    "    import pykat.optics.gaussian_beams as gb\n",
    "    q = gb.BeamParam(w0=w0, z=z)\n",
    "    \n",
    "    for i in range(0, n+1):\n",
    "        for j in range(0, m+1):\n",
    "            HG_mode = gb.HG_mode(q, n=i, m=j)\n",
    "            HG_field = HG_mode.Unm(X,Y)\n",
    "            k_nm = np.sum(np.multiply(np.conj(beam_data), HG_field))*np.diff(X)[0]*np.diff(Y)[0]\n",
    "            print('%i%i: Mag: %.8E     Ang: %.2F'  % (i, j, np.abs(k_nm), np.angle(k_nm, deg=True)))"
   ]
  },
  {
   "cell_type": "code",
   "execution_count": 52,
   "metadata": {},
   "outputs": [
    {
     "name": "stdout",
     "output_type": "stream",
     "text": [
      "00: Mag: 9.99999264E-01     Ang: 0.00\n",
      "01: Mag: 1.21271846E-03     Ang: 90.00\n",
      "02: Mag: 1.02009805E-06     Ang: -179.63\n",
      "03: Mag: 9.63358261E-06     Ang: -90.00\n",
      "10: Mag: 8.68894710E-09     Ang: 90.28\n",
      "11: Mag: 3.39859230E-08     Ang: 90.01\n",
      "12: Mag: 3.19358024E-09     Ang: -90.33\n",
      "13: Mag: 1.87892618E-08     Ang: -89.97\n",
      "20: Mag: 2.28656019E-08     Ang: 154.78\n",
      "21: Mag: 1.67163413E-05     Ang: 90.00\n",
      "22: Mag: 2.85311838E-08     Ang: 168.68\n",
      "23: Mag: 4.62799688E-07     Ang: -90.00\n",
      "30: Mag: 1.89981947E-08     Ang: 89.95\n",
      "31: Mag: 1.28209307E-08     Ang: -90.06\n",
      "32: Mag: 5.44933622E-09     Ang: -89.78\n",
      "33: Mag: 5.41027136E-11     Ang: 57.40\n"
     ]
    }
   ],
   "source": [
    "import pykat.optics.gaussian_beams as gb\n",
    "\n",
    "# Use pykat to generate a q parameter, the corresponding field profile, using the grid generated, and, in turn, the phase map of the EOBD is applied to the field \n",
    "q = gb.BeamParam(w0=250e-6, z=0)\n",
    "beam = gb.HG_mode(q,n=0, m=0) \n",
    "HG_field = beam.Unm(X,Y)\n",
    "EOBDXHG = np.multiply(np.exp(-1j*phase_m), HG_field)\n",
    "\n",
    "\n",
    "HG_mode_content(250e-6, 0, EOBDXHG, X, Y, 3, 3)"
   ]
  },
  {
   "cell_type": "code",
   "execution_count": 53,
   "metadata": {},
   "outputs": [],
   "source": [
    "# Now we attempt to increase the complexity of the simulation\n",
    "\n",
    "def mode_scattering_matrix(w0, z, n_E, dl, X, Y, n, m):\n",
    "    '''For a given electric field dependent index of refraction, produces a phase map for a defined distance, dl, this phase map is then used\n",
    "       to produces a scattering matrix up to a user defined order.'''\n",
    "    \n",
    "    scatter_matrix = np.zeros((n+1, m+1), dtype=np.complex_)\n",
    "    dOPL_m = (n_E - 1.774)*dl\n",
    "    phase_map = dOPL_m * 2 * np.pi / 1064e-9\n",
    "    \n",
    "    import pykat.optics.gaussian_beams as gb\n",
    "    \n",
    "    q = gb.BeamParam(w0=w0, z=z)\n",
    "    HG00 = gb.HG_mode(q, n=0, m=0)\n",
    "    HG00_f = HG00.Unm(X, Y)\n",
    "    EOBDXHG = np.multiply(np.exp(-1j*phase_map), HG00_f)\n",
    "    \n",
    "    for i in range(0, n+1):\n",
    "        for j in range(0, m+1):\n",
    "            HG_mode = gb.HG_mode(q, n=i, m=j)\n",
    "            HG_field = HG_mode.Unm(X,Y)\n",
    "            k_nm = np.vdot(EOBDXHG, HG_field)*np.diff(X)[0]*np.diff(Y)[0]\n",
    "            scatter_matrix[i][j] = k_nm\n",
    "            \n",
    "    return scatter_matrix"
   ]
  },
  {
   "cell_type": "code",
   "execution_count": 56,
   "metadata": {},
   "outputs": [],
   "source": [
    "# interpolate the index of refraction over the same grid that was defined previously\n",
    "nE_m = griddata((x_cc, y_cc), n_E, (XX, YY), method='cubic', fill_value=0)\n",
    "\n",
    "# create a symmetric z-array, which is used to create an array of q parameters that are used to produces an array of scattering matrices for each point \n",
    "# in the simulation.\n",
    "\n",
    "w0 = 250e-6\n",
    "zR = np.pi * w0**2 / 1064e-9\n",
    "z = np.linspace(-20e-3, 20e-3, 101)\n",
    "q = [gb.BeamParam(w0=w0, z=i) for i in z]\n",
    "dl = z[2]-z[1]\n",
    "\n",
    "# ------------------------------------------------------------------\n",
    "#A = [mode_scattering_matrix(w0, i, nE_m, dl, X, Y, 3, 3) for i in z] # 1\n",
    "A = [mode_scattering_matrix(w0, i, nE_m, i, X, Y, 3, 3) for i in z] # 2 "
   ]
  },
  {
   "cell_type": "code",
   "execution_count": 57,
   "metadata": {},
   "outputs": [
    {
     "name": "stdout",
     "output_type": "stream",
     "text": [
      "00: Mag:9.99994E-01     Phase:-0.00000\n",
      "01: Mag:6.09907E-04     Phase:96.18547\n",
      "02: Mag:2.57974E-07     Phase:-166.91410\n",
      "03: Mag:4.90197E-06     Phase:-71.44354\n",
      "10: Mag:4.49892E-09     Phase:-96.31916\n",
      "11: Mag:2.74394E-12     Phase:-0.13369\n",
      "12: Mag:1.16061E-15     Phase:96.76674\n",
      "13: Mag:2.20537E-14     Phase:-167.76270\n",
      "20: Mag:7.08180E-09     Phase:-150.76356\n",
      "21: Mag:4.31926E-12     Phase:-54.57810\n",
      "22: Mag:1.82693E-15     Phase:42.32234\n",
      "23: Mag:3.47150E-14     Phase:137.79289\n",
      "30: Mag:9.25563E-09     Phase:-108.52850\n",
      "31: Mag:5.64510E-12     Phase:-12.34303\n",
      "32: Mag:2.38773E-15     Phase:84.55740\n",
      "33: Mag:4.53711E-14     Phase:-179.97204\n",
      "Total: 0.9999876520380133\n"
     ]
    }
   ],
   "source": [
    "# Matrix multiply all items in the array of scattering matrix\n",
    "B = A[0]\n",
    "\n",
    "for i in range(len(A)-1):\n",
    "    \n",
    "    if i > (len(A)-1): break\n",
    "    else: B = np.matmul(B, A[i+1])\n",
    "        \n",
    "\n",
    "tot = 0\n",
    "n_1 = 0\n",
    "m_1 = 0\n",
    "\n",
    "# Print results from final scattering matrix\n",
    "for i in B: \n",
    "    for j in i:\n",
    "        tot = tot + np.abs(j)**2\n",
    "        print('%s%s: Mag:%.5E     Phase:%.5F'% (str(n_1),str(m_1), np.abs(j), np.angle(j, deg=True)))\n",
    "        m_1 +=1\n",
    "    n_1 +=1\n",
    "    m_1 = 0\n",
    "        \n",
    "print('Total:', tot)\n",
    "\n",
    "# There are a few ways of running this notebook, starting where we first acquire the phase map\n",
    "# 1,1: we use the full length of the crystal in the intial simple simulation and maintain an equal distance between the slices.\n",
    "#   > this leads to a difference in the magnitude of the 01 coefficients of about a factor of 100\n",
    "#\n",
    "# 1,2: we use the full length of the crystal in the intial simple simulation and use the cumulative sum of the distance between the slices\n",
    "#  > this results in about a factor of 2 difference between the 01 modes \n",
    "#\n",
    "# 2, 2: we use half the length of the crystal in the initial simulation and the cumulative sum of the distances between the slices\n",
    "#  > this gives us results that are comparable."
   ]
  },
  {
   "cell_type": "code",
   "execution_count": null,
   "metadata": {},
   "outputs": [],
   "source": []
  }
 ],
 "metadata": {
  "kernelspec": {
   "display_name": "Python 3",
   "language": "python",
   "name": "python3"
  },
  "language_info": {
   "codemirror_mode": {
    "name": "ipython",
    "version": 3
   },
   "file_extension": ".py",
   "mimetype": "text/x-python",
   "name": "python",
   "nbconvert_exporter": "python",
   "pygments_lexer": "ipython3",
   "version": "3.6.8"
  }
 },
 "nbformat": 4,
 "nbformat_minor": 2
}
